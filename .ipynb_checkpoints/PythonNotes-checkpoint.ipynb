{
 "cells": [
  {
   "cell_type": "code",
   "execution_count": null,
   "metadata": {
    "collapsed": true
   },
   "outputs": [],
   "source": [
    "#Check type\n",
    "df.dtypes          # type of df column\n",
    "df.info()          # df info\n",
    "type(df.iloc[0,0]) # df element type\n",
    "type(123)          # int\n",
    "type (123) is int  # True\n",
    "\n",
    "#Check missing value\n",
    "import math\n",
    "t= np.nan          # NaN\n",
    "math.isnan(t)      # output : True\n",
    "\n",
    "val=None\n",
    "val == None        # True\n",
    "not (val is None)  # False\n",
    "val is not None    # False\n",
    "\n",
    "# Check dataframe missing value\n",
    "df.isnull()        \n",
    "df.isnull().any()  # If missing in column\n",
    "df.isnull().any().any()\n",
    "df.isnull().sum()  # Number of missing in each column\n",
    "df.isnull().sum().sum()\n",
    "\n",
    "# Print lines with missing value\n",
    "df[df.isnull().any(axis=1)]"
   ]
  }
 ],
 "metadata": {
  "kernelspec": {
   "display_name": "Python 2",
   "language": "python",
   "name": "python2"
  },
  "language_info": {
   "codemirror_mode": {
    "name": "ipython",
    "version": 2
   },
   "file_extension": ".py",
   "mimetype": "text/x-python",
   "name": "python",
   "nbconvert_exporter": "python",
   "pygments_lexer": "ipython2",
   "version": "2.7.10+"
  }
 },
 "nbformat": 4,
 "nbformat_minor": 0
}
